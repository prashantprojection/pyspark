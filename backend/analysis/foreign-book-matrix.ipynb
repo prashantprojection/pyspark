{
 "cells": [
  {
   "cell_type": "code",
   "execution_count": 26,
   "metadata": {},
   "outputs": [],
   "source": [
    "import hashlib\n",
    "def myHash(s):\n",
    "    if s == None:\n",
    "        return 0\n",
    "    else:\n",
    "        return int(hashlib.sha1(s.encode(\"utf-8\")).hexdigest(), 16) % (10 ** 9)"
   ]
  },
  {
   "cell_type": "markdown",
   "metadata": {},
   "source": [
    "# make foreign book matrix"
   ]
  },
  {
   "cell_type": "markdown",
   "metadata": {},
   "source": [
    "## title vector(not ncessary)"
   ]
  },
  {
   "cell_type": "code",
   "execution_count": 27,
   "metadata": {},
   "outputs": [],
   "source": [
    "# ## title의 연관성은 속도를 너무 늦춰 profile vector에서 제외\n",
    "# import sqlite3\n",
    "# con = sqlite3.connect(\"../Books.db\")\n",
    "# cur = con.cursor()\n",
    "# cur.execute(\"SELECT title FROM Korean_book\")\n",
    "# titles = cur.fetchall()\n",
    "# print(len(titles))\n",
    "\n",
    "# S = set()\n",
    "\n",
    "# # hashing 값이 겹치는 title값이 존재\n",
    "# for i, title in enumerate(titles):\n",
    "#     S.add(hash(title[0]))\n",
    "# print(len(S))\n",
    "\n",
    "# cur.close()\n",
    "# con.close()"
   ]
  },
  {
   "cell_type": "code",
   "execution_count": 28,
   "metadata": {},
   "outputs": [],
   "source": [
    "# ## window 2로 shingling 했을 때 최대값 == 73\n",
    "# # from k_gram import k_gram_hash\n",
    "# import sqlite3\n",
    "# con = sqlite3.connect(\"../Books.db\")\n",
    "# cur = con.cursor()\n",
    "# cur.execute(\"SELECT title FROM Korean_book\")\n",
    "# titles = cur.fetchall()\n",
    "# print(\"title len:\",len(titles))\n",
    "\n",
    "# window = 2\n",
    "# max = 0\n",
    "# for i, title in enumerate(titles):\n",
    "#     result = k_gram_hash(title[0], window, \"korean\")\n",
    "#     if max < len(result):\n",
    "#         max = len(result)\n",
    "\n",
    "# print(\"max:\",max)\n",
    "\n",
    "# cur.close()\n",
    "# con.close()"
   ]
  },
  {
   "cell_type": "code",
   "execution_count": 29,
   "metadata": {},
   "outputs": [],
   "source": [
    "# ## window 2로 shingling 했을 때 최대값 == 73\n",
    "# # from k_gram import k_gram_hash\n",
    "# import sqlite3\n",
    "# con = sqlite3.connect(\"../Books.db\")\n",
    "# cur = con.cursor()\n",
    "# cur.execute(\"SELECT title FROM Korean_book\")\n",
    "# titles = cur.fetchall()\n",
    "# print(\"title len:\",len(titles))\n",
    "\n",
    "# window = 3\n",
    "# max = 0\n",
    "# for i, title in enumerate(titles):\n",
    "#     result = k_gram_hash(title[0], window, \"korean\")\n",
    "#     if max < len(result):\n",
    "#         max = len(result)\n",
    "\n",
    "# print(\"max:\",max)\n",
    "\n",
    "# cur.close()\n",
    "# con.close()"
   ]
  },
  {
   "cell_type": "code",
   "execution_count": 30,
   "metadata": {},
   "outputs": [],
   "source": [
    "# # from k_gram import k_gram_hash\n",
    "# import sqlite3\n",
    "# con = sqlite3.connect(\"../Books.db\")\n",
    "# cur = con.cursor()\n",
    "# cur.execute(\"SELECT title FROM Korean_book\")\n",
    "# titles = cur.fetchall()\n",
    "# print(\"title len:\",len(titles))\n",
    "\n",
    "# window = 3\n",
    "# S = set()\n",
    "\n",
    "# # hashing 값이 겹치는 title값이 존재\n",
    "# for i, title in enumerate(titles):\n",
    "#     S.add(tuple(k_gram_hash(title[0], window, \"korean\")))\n",
    "# print(len(S))\n",
    "\n",
    "# cur.close()\n",
    "# con.close()"
   ]
  },
  {
   "cell_type": "markdown",
   "metadata": {},
   "source": [
    "## author vector"
   ]
  },
  {
   "cell_type": "code",
   "execution_count": 31,
   "metadata": {},
   "outputs": [
    {
     "name": "stdout",
     "output_type": "stream",
     "text": [
      "52478\n",
      "hashing 전 28227\n",
      "hashing 후 28227\n"
     ]
    }
   ],
   "source": [
    "## 변함 없음\n",
    "import sqlite3\n",
    "\n",
    "con = sqlite3.connect(\"../Books.db\")\n",
    "cur = con.cursor()\n",
    "cur.execute(\"SELECT author FROM Foreign_book\")\n",
    "author = cur.fetchall()\n",
    "print(len(author))\n",
    "\n",
    "S = set()\n",
    "for i, author in enumerate(author):\n",
    "    S.add((author[0]))\n",
    "print(\"hashing 전\",len(S))\n",
    "\n",
    "\n",
    "cur.execute(\"SELECT author FROM Foreign_book\")\n",
    "author = cur.fetchall()\n",
    "S = set()\n",
    "for i, author in enumerate(author):\n",
    "    S.add(myHash(author[0]))\n",
    "print(\"hashing 후\",len(S))\n",
    "\n",
    "cur.close()\n",
    "con.close()"
   ]
  },
  {
   "cell_type": "code",
   "execution_count": 32,
   "metadata": {},
   "outputs": [
    {
     "name": "stdout",
     "output_type": "stream",
     "text": [
      "Suzanne Collins\n",
      "647226322\n",
      "202349168\n",
      "[647226322, 202349168, 942750892, 197138178, 725669226]\n",
      "52478\n"
     ]
    }
   ],
   "source": [
    "import sqlite3\n",
    "con = sqlite3.connect(\"../Books.db\")\n",
    "cur = con.cursor()\n",
    "cur.execute(\"SELECT author FROM Foreign_book\")\n",
    "authors = cur.fetchall()\n",
    "print(authors[0][0])\n",
    "print(myHash(authors[0][0]))\n",
    "print(myHash(authors[1][0]))\n",
    "\n",
    "author_list = []\n",
    "for author in authors:\n",
    "    author_list.append(myHash(author[0]))\n",
    "print(author_list[0:5])\n",
    "print(len(author_list))"
   ]
  },
  {
   "cell_type": "markdown",
   "metadata": {},
   "source": [
    "## publisher vector(not ncessary)"
   ]
  },
  {
   "cell_type": "code",
   "execution_count": 33,
   "metadata": {},
   "outputs": [],
   "source": [
    "# ## 변함 없음\n",
    "# import sqlite3\n",
    "# con = sqlite3.connect(\"../Books.db\")\n",
    "# cur = con.cursor()\n",
    "# cur.execute(\"SELECT publisher FROM Foreign_book\")\n",
    "# publisher = cur.fetchall()\n",
    "# print(len(publisher))\n",
    "\n",
    "\n",
    "# S = set()\n",
    "# for i, publisher in enumerate(publisher):\n",
    "#     S.add((publisher[0]))\n",
    "# print(\"hashing 전\",len(S))\n",
    "\n",
    "\n",
    "# cur.execute(\"SELECT publisher FROM Foreign_book\")\n",
    "# publisher = cur.fetchall()\n",
    "# S = set()\n",
    "# for i, publisher in enumerate(publisher):\n",
    "#     S.add(myHash(publisher[0]))\n",
    "# print(\"hashing 후\",len(S))\n",
    "\n",
    "\n",
    "# cur.close()\n",
    "# con.close()"
   ]
  },
  {
   "cell_type": "code",
   "execution_count": 34,
   "metadata": {},
   "outputs": [],
   "source": [
    "# import sqlite3\n",
    "# con = sqlite3.connect(\"../Books.db\")\n",
    "# cur = con.cursor()\n",
    "# cur.execute(\"SELECT publisher FROM Foreign_book\")\n",
    "# publishers = cur.fetchall()\n",
    "# print(len(publishers))\n",
    "# print(myHash(publishers[0][0]))\n",
    "# print(myHash(publishers[1][0]))\n",
    "\n",
    "# publisher_list = []\n",
    "# for publisher in publishers:\n",
    "#     publisher_list.append(myHash(publisher[0]))\n",
    "# print(publisher_list[:2])\n",
    "# print(len(publisher_list))"
   ]
  },
  {
   "cell_type": "markdown",
   "metadata": {},
   "source": [
    "## rating vector(not ncessary)"
   ]
  },
  {
   "cell_type": "code",
   "execution_count": 35,
   "metadata": {},
   "outputs": [],
   "source": [
    "# import sqlite3\n",
    "# con = sqlite3.connect(\"../Books.db\")\n",
    "# cur = con.cursor()\n",
    "# cur.execute(\"SELECT rating FROM Foreign_book\")\n",
    "# ratings = cur.fetchall()\n",
    "# print(len(ratings))\n",
    "# print(((ratings[0][0])))\n",
    "# print(((ratings[1][0])))\n",
    "# print(((ratings[2][0])))\n",
    "\n",
    "# rating_list = []\n",
    "# for rating in ratings:\n",
    "#     if rating[0] == None:\n",
    "#         rating_list.append(0)\n",
    "#     else:\n",
    "#         rating_list.append(((rating[0])))\n",
    "# print(rating_list[:4])\n",
    "# print(len(rating_list))"
   ]
  },
  {
   "cell_type": "markdown",
   "metadata": {},
   "source": [
    "## page vector(not ncessary)"
   ]
  },
  {
   "cell_type": "code",
   "execution_count": 36,
   "metadata": {},
   "outputs": [],
   "source": [
    "# import sqlite3\n",
    "# con = sqlite3.connect(\"../Books.db\")\n",
    "# cur = con.cursor()\n",
    "# cur.execute(\"SELECT pages,id FROM Foreign_book\")\n",
    "# pages = cur.fetchall()\n",
    "# print(len(pages))\n",
    "# print(pages[0][0])\n",
    "# print(pages[1][0])\n",
    "# print(pages[2][0])\n",
    "# print()\n",
    "\n",
    "# page_list = []\n",
    "# for i, page in enumerate(pages):\n",
    "#     if page[0] == None:\n",
    "#         page_list.append(0)\n",
    "#     else:\n",
    "#         page_list.append(page[0])\n",
    "# print(page_list[:3])\n",
    "# print(len(page_list))"
   ]
  },
  {
   "cell_type": "markdown",
   "metadata": {},
   "source": [
    "## id vector"
   ]
  },
  {
   "cell_type": "code",
   "execution_count": 37,
   "metadata": {},
   "outputs": [
    {
     "name": "stdout",
     "output_type": "stream",
     "text": [
      "52478\n",
      "0\n",
      "1\n",
      "2\n",
      "\n",
      "[0, 1, 2]\n",
      "52478\n"
     ]
    }
   ],
   "source": [
    "import sqlite3\n",
    "con = sqlite3.connect(\"../Books.db\")\n",
    "cur = con.cursor()\n",
    "cur.execute(\"SELECT id FROM Foreign_book\")\n",
    "ids = cur.fetchall()\n",
    "print(len(ids))\n",
    "print(ids[0][0])\n",
    "print(ids[1][0])\n",
    "print(ids[2][0])\n",
    "print()\n",
    "\n",
    "id_list = []\n",
    "for i, id in enumerate(ids):\n",
    "    if id[0] == None:\n",
    "        id_list.append(0)\n",
    "    else:\n",
    "        id_list.append(id[0])\n",
    "print(id_list[:3])\n",
    "print(len(id_list))"
   ]
  },
  {
   "cell_type": "markdown",
   "metadata": {},
   "source": [
    "## genre vector"
   ]
  },
  {
   "cell_type": "code",
   "execution_count": 38,
   "metadata": {},
   "outputs": [
    {
     "name": "stdout",
     "output_type": "stream",
     "text": [
      "<class 'str'>\n",
      "981\n",
      "['Fiction', 'Romance', 'Fantasy', 'Young Adult', 'Contemporary']\n"
     ]
    }
   ],
   "source": [
    "with open(\"../data/foreign-all-genres.txt\", \"rb\") as f:\n",
    "    all_genres = f.read().decode(\"utf-8\")\n",
    "\n",
    "print(type(all_genres))\n",
    "all_genres = all_genres.split(\"\\n\")\n",
    "print(len(all_genres))\n",
    "print(all_genres[0:5])"
   ]
  },
  {
   "cell_type": "code",
   "execution_count": 39,
   "metadata": {},
   "outputs": [
    {
     "name": "stdout",
     "output_type": "stream",
     "text": [
      "980\n",
      "Guinea\n"
     ]
    }
   ],
   "source": [
    "all_genres.remove(\"\")\n",
    "print(len(all_genres))\n",
    "print(all_genres[-1])"
   ]
  },
  {
   "cell_type": "code",
   "execution_count": 40,
   "metadata": {},
   "outputs": [
    {
     "name": "stdout",
     "output_type": "stream",
     "text": [
      "(52478, 980)\n"
     ]
    }
   ],
   "source": [
    "import sqlite3\n",
    "import numpy as np\n",
    "con = sqlite3.connect(\"../Books.db\")\n",
    "cur = con.cursor()\n",
    "cur.execute(\"SELECT genres FROM Foreign_book\")\n",
    "genres = cur.fetchall()\n",
    "\n",
    "genre_list = []\n",
    "for genre in genres:\n",
    "    binary = [0 for _ in range(len(all_genres))]\n",
    "    genre = genre[0].split(\", \")\n",
    "    for i,g in enumerate(all_genres):\n",
    "        if g in genre:\n",
    "            binary[i] = 1\n",
    "    genre_list.append(binary)\n",
    "genre_numpy = np.array(genre_list)\n",
    "print(genre_numpy.shape)"
   ]
  },
  {
   "cell_type": "code",
   "execution_count": 41,
   "metadata": {},
   "outputs": [
    {
     "name": "stdout",
     "output_type": "stream",
     "text": [
      "['Young Adult', 'Fiction', 'Dystopia', 'Fantasy', 'Science Fiction', 'Romance', 'Adventure', 'Teen', 'Post Apocalyptic', 'Action']\n",
      "10\n",
      "10\n",
      "\n",
      "['Paranormal', 'Shapeshifters', 'Paranormal Romance', 'Romance', 'Fantasy', 'Dragons', 'Supernatural', 'Adult', 'Urban Fantasy', 'M F Romance']\n",
      "10\n",
      "10\n"
     ]
    }
   ],
   "source": [
    "import sqlite3\n",
    "import numpy as np\n",
    "con = sqlite3.connect(\"../Books.db\")\n",
    "cur = con.cursor()\n",
    "cur.execute(\"SELECT genres FROM Foreign_book\")\n",
    "genres = cur.fetchall()\n",
    "print((genres[0][0].split(\", \")))\n",
    "print(len(genres[0][0].split(\", \")))\n",
    "print(genre_numpy[0,:].sum())\n",
    "print()\n",
    "print((genres[45000][0].split(\", \")))\n",
    "print(len(genres[45000][0].split(\", \")))\n",
    "print(genre_numpy[45000,:].sum())"
   ]
  },
  {
   "cell_type": "code",
   "execution_count": 42,
   "metadata": {},
   "outputs": [
    {
     "name": "stdout",
     "output_type": "stream",
     "text": [
      "(1, 52478)\n",
      "(1, 52478)\n"
     ]
    }
   ],
   "source": [
    "id_numpy = np.array([id_list])\n",
    "print(id_numpy.shape)\n",
    "# rating_numpy = np.array([rating_list])\n",
    "# print(rating_numpy.shape)\n",
    "# page_numpy = np.array([np.array(page_list)])\n",
    "# print(page_numpy.shape)\n",
    "author_numpy = np.array([author_list])\n",
    "print(author_numpy.shape)\n",
    "# publisher_numpy = np.array([publisher_list])\n",
    "# print(publisher_numpy.shape)"
   ]
  },
  {
   "cell_type": "code",
   "execution_count": 43,
   "metadata": {},
   "outputs": [],
   "source": [
    "# def check(x):\n",
    "#     info = []\n",
    "#     for i in range((x.shape[0])):\n",
    "#         for j in range((x.shape[1])):\n",
    "#             if isinstance(x[i,j], np.int64):\n",
    "#                 pass\n",
    "#             else:\n",
    "#                 info.append((i,j))\n",
    "#     print(len(info))"
   ]
  },
  {
   "cell_type": "code",
   "execution_count": 44,
   "metadata": {},
   "outputs": [],
   "source": [
    "# check(id_numpy)\n",
    "# check(rating_numpy)\n",
    "# check(page_numpy)\n",
    "# check(author_numpy)\n",
    "# check(publisher_numpy)"
   ]
  },
  {
   "cell_type": "code",
   "execution_count": 45,
   "metadata": {},
   "outputs": [
    {
     "name": "stdout",
     "output_type": "stream",
     "text": [
      "(52478, 982)\n"
     ]
    }
   ],
   "source": [
    "ForBookMatrix = np.concatenate((\n",
    "    id_numpy.T,\n",
    "    genre_numpy,\n",
    "    # rating_numpy.T,\n",
    "    # page_numpy.T,\n",
    "    author_numpy.T,\n",
    "    # publisher_numpy.T\n",
    "), axis=1)\n",
    "print(ForBookMatrix.shape)"
   ]
  },
  {
   "cell_type": "code",
   "execution_count": 46,
   "metadata": {},
   "outputs": [
    {
     "name": "stdout",
     "output_type": "stream",
     "text": [
      "3\n",
      "10\n",
      "0\n",
      "647226322\n"
     ]
    }
   ],
   "source": [
    "print(ForBookMatrix[3,0])\n",
    "print(ForBookMatrix[0,1:980].sum())\n",
    "# print(ForBookMatrix[0,983])\n",
    "# print(ForBookMatrix[0,984])\n",
    "print(ForBookMatrix[0,980])\n",
    "print(myHash((\"Suzanne Collins\")))\n",
    "# print(ForBookMatrix[0,986])\n",
    "# print(hash((\"Scholastic Press\")))"
   ]
  },
  {
   "cell_type": "code",
   "execution_count": 47,
   "metadata": {},
   "outputs": [],
   "source": [
    "np.savetxt(\"../data/ForBookMatrix.csv\", ForBookMatrix, delimiter=\",\")"
   ]
  },
  {
   "cell_type": "code",
   "execution_count": 48,
   "metadata": {},
   "outputs": [],
   "source": [
    "import pickle\n",
    "with open(\"../data/ForBookMatrix.pkl\", \"wb\") as f:\n",
    "    pickle.dump(ForBookMatrix, f)"
   ]
  }
 ],
 "metadata": {
  "kernelspec": {
   "display_name": "Python 3.6.9 64-bit",
   "language": "python",
   "name": "python3"
  },
  "language_info": {
   "codemirror_mode": {
    "name": "ipython",
    "version": 3
   },
   "file_extension": ".py",
   "mimetype": "text/x-python",
   "name": "python",
   "nbconvert_exporter": "python",
   "pygments_lexer": "ipython3",
   "version": "3.6.9"
  },
  "orig_nbformat": 4,
  "vscode": {
   "interpreter": {
    "hash": "31f2aee4e71d21fbe5cf8b01ff0e069b9275f58929596ceb00d14d90e3e16cd6"
   }
  }
 },
 "nbformat": 4,
 "nbformat_minor": 2
}
