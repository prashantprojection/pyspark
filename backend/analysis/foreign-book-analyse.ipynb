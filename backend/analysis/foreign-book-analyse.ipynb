{
 "cells": [
  {
   "cell_type": "code",
   "execution_count": 8,
   "metadata": {},
   "outputs": [],
   "source": [
    "import hashlib\n",
    "\n",
    "def myHash(s):\n",
    "    if s == None:\n",
    "        return 0\n",
    "    else:\n",
    "        return int(hashlib.sha1(s.encode(\"utf-8\")).hexdigest(), 16) % (10 ** 9)"
   ]
  },
  {
   "cell_type": "code",
   "execution_count": 1,
   "metadata": {},
   "outputs": [
    {
     "name": "stderr",
     "output_type": "stream",
     "text": [
      "/home/ljj0512/.local/lib/python3.6/site-packages/pyspark/context.py:238: FutureWarning: Python 3.6 support is deprecated in Spark 3.2.\n",
      "  FutureWarning\n"
     ]
    }
   ],
   "source": [
    "from pyspark.sql import *\n",
    "from pyspark.sql.functions import *\n",
    "from pyspark import SparkContext\n",
    "\n",
    "# create the Spark Session\n",
    "spark = SparkSession.builder.appName(\"spark\").getOrCreate()\n",
    "\n",
    "# create the Spark Context\n",
    "sc = spark.sparkContext"
   ]
  },
  {
   "cell_type": "code",
   "execution_count": 10,
   "metadata": {},
   "outputs": [
    {
     "name": "stdout",
     "output_type": "stream",
     "text": [
      "(52478, 982)\n",
      "980\n"
     ]
    }
   ],
   "source": [
    "####################################\n",
    "# [0] = book unique id -> 1\n",
    "# [1:980] = genre vector -> 980\n",
    "# [981] = author -> 1\n",
    "# 하나의 book profile 크기 = 982\n",
    "####################################\n",
    "import time\n",
    "import pickle\n",
    "with open(\"../data/ForBookMatrix.pkl\", \"rb\") as f:\n",
    "    ForBookMatrix = pickle.load(f)\n",
    "print(ForBookMatrix.shape)\n",
    "\n",
    "import numpy as np\n",
    "with open(\"../data/foregin-all-genres-dic.pkl\", \"rb\") as f:\n",
    "    genres_dic = pickle.load(f)\n",
    "print(len(genres_dic))"
   ]
  },
  {
   "cell_type": "code",
   "execution_count": 9,
   "metadata": {},
   "outputs": [
    {
     "name": "stdout",
     "output_type": "stream",
     "text": [
      "11\n",
      "0\n",
      "647226322\n",
      "647226322\n"
     ]
    }
   ],
   "source": [
    "print(ForBookMatrix[10,0])\n",
    "print(ForBookMatrix[0,980])\n",
    "print(ForBookMatrix[0,981])\n",
    "print(myHash(\"Suzanne Collins\"))"
   ]
  },
  {
   "cell_type": "markdown",
   "metadata": {},
   "source": [
    "# genre만 받았을 경우"
   ]
  },
  {
   "cell_type": "markdown",
   "metadata": {},
   "source": [
    "### 일반적인 content based search"
   ]
  },
  {
   "cell_type": "code",
   "execution_count": 31,
   "metadata": {},
   "outputs": [],
   "source": [
    "from numpy.linalg import norm\n",
    "\n",
    "def cos_similarity(x :np.array, y :np.array):\n",
    "    return ( (np.dot(x,y))/(norm(x)*norm(y)) )"
   ]
  },
  {
   "cell_type": "code",
   "execution_count": 32,
   "metadata": {},
   "outputs": [],
   "source": [
    "def linear_search(Matrix, userProfile, topNum, genre_dim):\n",
    "    similarity = map(\n",
    "        lambda bookProfile: \\\n",
    "            (int(bookProfile[0]),cos_similarity(bookProfile[1:genre_dim+1], userProfile[0,1:]))\n",
    "            ,Matrix)\n",
    "    best = sorted(similarity, key=lambda t: -t[1])[:topNum]\n",
    "    return [t[0] for t in best]\n",
    "    # return [t for t in best]\n"
   ]
  },
  {
   "cell_type": "code",
   "execution_count": 52,
   "metadata": {},
   "outputs": [
    {
     "name": "stdout",
     "output_type": "stream",
     "text": [
      "1, 2, 3, 4, 13, 17, 35, 57, "
     ]
    }
   ],
   "source": [
    "genres = [\"Young Adult\", \"Fiction\", \"Dystopia\", \"Fantasy\", \"Science Fiction\", \"Romance\", \"Adventure\", \"Teen\"]\n",
    "\n",
    "# 0을 남겨둠\n",
    "userProfile = np.zeros((1,len(genres_dic)+1))\n",
    "for genre in genres:\n",
    "    userProfile[0,genres_dic[genre]] = 1.\n",
    "\n",
    "for i in range(len(userProfile[0])):\n",
    "    if userProfile[0,i] == 1.0:\n",
    "        print(i, end=\", \")"
   ]
  },
  {
   "cell_type": "code",
   "execution_count": 53,
   "metadata": {},
   "outputs": [
    {
     "name": "stdout",
     "output_type": "stream",
     "text": [
      "[0, 21, 151, 184, 221, 237, 326, 335, 345, 622]\n",
      "====================================================================================================\n",
      "0.711101770401001 (second)\n"
     ]
    }
   ],
   "source": [
    "start = time.time()\n",
    "print(linear_search(ForBookMatrix, userProfile, 100)[:10])\n",
    "print(\"=\"*100)\n",
    "print(time.time()-start,\"(second)\")"
   ]
  },
  {
   "cell_type": "code",
   "execution_count": 35,
   "metadata": {},
   "outputs": [
    {
     "name": "stdout",
     "output_type": "stream",
     "text": [
      "iter1| [20007, 23623, 23074, 26142, 31168, 41034, 50739, 28610, 32964, 33087]\n",
      "iter2| [17743, 30142, 22460, 33532, 42656, 21327, 25743, 34137, 35788, 37774]\n",
      "iter3| [37791, 50834, 35650, 49004, 31373, 33844, 34212, 35918, 47468, 17897]\n",
      "iter4| [20007, 46612, 34512, 41034, 42960, 34165, 20626, 21481, 21986, 44197]\n",
      "iter5| [43724, 4926, 11277, 14824, 20600, 23260, 25915, 35181, 35524, 36741]\n",
      "iter6| [36109, 43830, 50043, 42573, 32176, 33357, 41592, 47010, 12130, 24093]\n",
      "iter7| [15396, 20921, 33048, 39232, 44424, 44674, 44751, 44792, 47160, 15027]\n",
      "iter8| [28384, 32578, 44049, 32740, 42743, 13086, 27128, 30729, 37069, 6806]\n",
      "iter9| [17928, 18198, 20391, 21004, 25099, 26952, 51995, 13544, 19476, 28309]\n",
      "iter10| [40854, 38595, 3170, 4805, 14402, 14900, 23735, 2303, 2435, 4032]\n",
      "====================================================================================================\n",
      "average time: 0.6346384286880493\n"
     ]
    }
   ],
   "source": [
    "iterNum = 10\n",
    "sizes = np.random.randint(low=1, high=10, size=iterNum)\n",
    "addTime = 0\n",
    "for i, size in enumerate(sizes):\n",
    "    r = np.random.randint(low=1, high=982, size=size)\n",
    "    userProfile = np.zeros((1,len(genres_dic)+1))\n",
    "    userProfile[0,r] = 1.0\n",
    "    start = time.time()\n",
    "    best = linear_search(ForBookMatrix, userProfile, 100)\n",
    "    addTime += time.time()-start\n",
    "    print(f\"iter{i+1}|\",best[:10])\n",
    "\n",
    "print(\"=\"*100)\n",
    "print(\"average time:\",addTime/iterNum)"
   ]
  },
  {
   "cell_type": "markdown",
   "metadata": {},
   "source": [
    "### LSH를 통한 content based search"
   ]
  },
  {
   "cell_type": "code",
   "execution_count": 45,
   "metadata": {},
   "outputs": [],
   "source": [
    "# k == the number of \"row\"\n",
    "# L == the number of \"band\"\n",
    "DIMENSION = 982\n",
    "\n",
    "def create_function(dimensions, thresholds):\n",
    "    def f(v):\n",
    "        boolarray = [v[dimensions[i]] >= thresholds[i] for i in range(len(dimensions))]\n",
    "        return \"\".join(map(str, map(int, boolarray)))\n",
    "    return f\n",
    "\n",
    "\n",
    "def create_functions(k, L, num_dimensions = DIMENSION, min=0, max=1):\n",
    "    functions = []\n",
    "    for i in range(L):\n",
    "        dimensions = np.random.randint(low = 0,\n",
    "                                        high = num_dimensions,\n",
    "                                        size = k)\n",
    "        thresholds = np.random.randint(low = min,\n",
    "                                        high = max+1,\n",
    "                                        size = k)\n",
    "        functions.append(create_function(dimensions, thresholds))\n",
    "    return functions\n",
    "\n",
    "\n",
    "# 하나의 shingling에 대한 hash_vector 추출\n",
    "def hash_vector(functions, v):\n",
    "    return np.array([f(v) for f in functions])\n",
    "\n",
    "\n",
    "def hash_data(functions, A):\n",
    "    # v(shape:(400,)) is a each row of A(matrix)(shape:(59499, 400))\n",
    "    return np.array(list(map(lambda v: hash_vector(functions, v), A)))\n",
    "\n",
    "\n",
    "# 하나의 band라도 맞으면 filtering됨.\n",
    "def get_candidates(hashed_A, hashed_point):\n",
    "    return filter(lambda i: any(hashed_point == hashed_A[i]), range(len(hashed_A)))\n",
    "\n",
    "\n",
    "# return == (hash functions, signature matrix of A)\n",
    "def lsh_setup(A, k = 20, L = 70):\n",
    "    functions = create_functions(k = k, L = L)\n",
    "    hashed_A = hash_data(functions, A)\n",
    "    return (functions, hashed_A)\n",
    "\n",
    "\n",
    "def lsh_search(A, hashed_A, functions, userProfile, topNum = 10):\n",
    "    # A == KorBookProfile\n",
    "    # hashed_A == signature matrix of KorBookProfile\n",
    "    # 원래 데이터 vector에서 hash-vector 추출\n",
    "    hashed_userProfile = hash_vector(functions, userProfile[0])\n",
    "    candidate_row_nums = get_candidates(hashed_A, hashed_userProfile)\n",
    "    similarity = map(lambda r: (A[r,0], cos_similarity(A[r,1:DIMENSION+1], userProfile[0,1:])), candidate_row_nums)\n",
    "    best = sorted(similarity, key=lambda t: -t[1])[:topNum]\n",
    "    return [int(t[0]) for t in best]\n",
    "    # return [t for t in best]"
   ]
  },
  {
   "cell_type": "code",
   "execution_count": 73,
   "metadata": {},
   "outputs": [
    {
     "name": "stdout",
     "output_type": "stream",
     "text": [
      "(47835, 982)\n",
      "(47835, 1)\n"
     ]
    }
   ],
   "source": [
    "A = ForBookMatrix[:,1:DIMENSION+1]\n",
    "print(A.shape)\n",
    "funcs, hashed_A = lsh_setup(A, k=1, L=1)\n",
    "print(hashed_A.shape)"
   ]
  },
  {
   "cell_type": "code",
   "execution_count": 74,
   "metadata": {},
   "outputs": [
    {
     "name": "stdout",
     "output_type": "stream",
     "text": [
      "1, 2, 3, 4, 13, 17, 35, 57, "
     ]
    }
   ],
   "source": [
    "genres = [\"Young Adult\", \"Fiction\", \"Dystopia\", \"Fantasy\", \"Science Fiction\", \"Romance\", \"Adventure\", \"Teen\"]\n",
    "\n",
    "# 0을 남겨둠\n",
    "userProfile = np.zeros((1,len(genres_dic)+1))\n",
    "for genre in genres:\n",
    "    userProfile[0,genres_dic[genre]] = 1.\n",
    "\n",
    "for i in range(len(userProfile[0])):\n",
    "    if userProfile[0,i] == 1.0:\n",
    "        print(i, end=\", \")"
   ]
  },
  {
   "cell_type": "code",
   "execution_count": 75,
   "metadata": {},
   "outputs": [
    {
     "name": "stdout",
     "output_type": "stream",
     "text": [
      "[0, 21, 151, 184, 221, 237, 326, 335, 345, 622]\n",
      "====================================================================================================\n",
      "0.7970468997955322 (second)\n"
     ]
    }
   ],
   "source": [
    "start = time.time()\n",
    "print(lsh_search(ForBookMatrix, hashed_A, funcs, userProfile, 100)[:10])\n",
    "print(\"=\"*100)\n",
    "print(time.time()-start,\"(second)\")"
   ]
  },
  {
   "cell_type": "code",
   "execution_count": 76,
   "metadata": {},
   "outputs": [
    {
     "name": "stdout",
     "output_type": "stream",
     "text": [
      "similarity: 1.0000000000000002\n"
     ]
    }
   ],
   "source": [
    "x = np.array(lsh_search(ForBookMatrix, hashed_A, funcs, userProfile, 100))\n",
    "y = np.array(linear_search(ForBookMatrix, userProfile, 100))\n",
    "print(\"similarity:\",cos_similarity(x, y))"
   ]
  },
  {
   "cell_type": "code",
   "execution_count": 77,
   "metadata": {},
   "outputs": [
    {
     "name": "stdout",
     "output_type": "stream",
     "text": [
      "iter1| [18450, 27316, 30991, 48795, 29765, 34776, 18496, 19702, 42149, 31626]\n",
      "iter1| similarity:  1.0\n",
      "--------------------------------------------------\n",
      "iter2| [32282, 35115, 39141, 42333, 45656, 51947, 33115, 52104, 2915, 5059]\n",
      "iter2| similarity:  0.9999999999999999\n",
      "--------------------------------------------------\n",
      "iter3| [18821, 18888, 19023, 19122, 29748, 51185, 15593, 17833, 19210, 19489]\n",
      "iter3| similarity:  1.0000000000000002\n",
      "--------------------------------------------------\n",
      "iter4| [36503, 3364, 50963, 3328, 18336, 22010, 25339, 29610, 32059, 34061]\n",
      "iter4| similarity:  1.0\n",
      "--------------------------------------------------\n",
      "iter5| [19762, 18945, 26132, 39512, 41639, 43736, 50049, 52083, 4393, 22216]\n",
      "iter5| similarity:  1.0\n",
      "--------------------------------------------------\n",
      "iter6| [21700, 33956, 42167, 18568, 23712, 29334, 29529, 30433, 18975, 20407]\n",
      "iter6| similarity:  0.9999999999999999\n",
      "--------------------------------------------------\n",
      "iter7| [35320, 38955, 22533, 41491, 42194, 49324, 18721, 21397, 25868, 37092]\n",
      "iter7| similarity:  1.0\n",
      "--------------------------------------------------\n",
      "iter8| [1303, 22909, 31435, 31767, 48631, 19981, 20329, 27919, 32540, 24192]\n",
      "iter8| similarity:  0.9999999999999999\n",
      "--------------------------------------------------\n",
      "iter9| [28260, 37842, 46470, 47539, 49137, 49826, 8289, 8510, 8698, 11481]\n",
      "iter9| similarity:  1.0\n",
      "--------------------------------------------------\n",
      "iter10| [18821, 18888, 19023, 19122, 19882, 29748, 36503, 50017, 51185, 15593]\n",
      "iter10| similarity:  1.0000000000000002\n",
      "--------------------------------------------------\n",
      "==================================================\n",
      "average time: 0.6806035757064819\n"
     ]
    }
   ],
   "source": [
    "iterNum = 10\n",
    "sizes = np.random.randint(low=1, high=10, size=iterNum)\n",
    "addTime = 0\n",
    "# avgErr = 0\n",
    "for i, size in enumerate(sizes):\n",
    "    r = np.random.randint(low=1, high=DIMENSION, size=size)\n",
    "    userProfile = np.zeros((1,len(genres_dic)+1))\n",
    "    userProfile[0,r] = 1.0\n",
    "    start = time.time()\n",
    "    best = lsh_search(ForBookMatrix, hashed_A, funcs, userProfile, 100)\n",
    "    addTime += time.time()-start\n",
    "    x = np.array(best)\n",
    "    y = np.array(linear_search(ForBookMatrix, userProfile, 100))\n",
    "    print(f\"iter{i+1}|\",best[:10])\n",
    "    print(f\"iter{i+1}| similarity: \",cos_similarity(x, y))\n",
    "    print(\"-\"*50)\n",
    "\n",
    "print(\"=\"*50)\n",
    "print(\"average time:\",addTime/iterNum)"
   ]
  },
  {
   "cell_type": "markdown",
   "metadata": {},
   "source": [
    "# 02"
   ]
  },
  {
   "cell_type": "code",
   "execution_count": 81,
   "metadata": {},
   "outputs": [],
   "source": [
    "from numpy.linalg import norm\n",
    "\n",
    "def mySimilarity(x :np.array, user :np.array):\n",
    "    if(any(x[0]==user[0])):\n",
    "        return 0\n",
    "    elif(any(x[-1]==user[2])):\n",
    "        return 1.3*((np.dot(x[1:-1],user[1]))/(norm(x[1:-1])*norm((user[1]>0))))\n",
    "    else:\n",
    "        return ( (np.dot(x[1:-1],user[1]))/(norm(x[1:-1])*norm((user[1]>0))) )\n",
    "\n",
    "def my_search(KorBookMatrix, userProfile, topNum):\n",
    "    similarity = map(\n",
    "        lambda bookProfile: \\\n",
    "            (int(bookProfile[0]),mySimilarity(bookProfile, userProfile))\n",
    "            ,KorBookMatrix)\n",
    "    best = sorted(similarity, key=lambda t: -t[1])[:topNum]\n",
    "    return [t[0] for t in best]\n",
    "    # return [t for t in best]\n"
   ]
  },
  {
   "cell_type": "code",
   "execution_count": 83,
   "metadata": {},
   "outputs": [],
   "source": [
    "# test setting\n",
    "genres = [\"Young Adult\", \"Fiction\", \"Dystopia\", \"Fantasy\", \"Science Fiction\", \"Romance\", \"Adventure\", \"Teen\"]\n",
    "data = [\n",
    "    {\n",
    "        \"title\":\"The Hunger Games\",\n",
    "        \"author\":\"Suzanne Collins\",\n",
    "        \"id\":0,\n",
    "        \"genres\":[\"Young Adult\", \"Fiction\", \"Dystopia\", \"Fantasy\", \"Science Fiction\", \"Romance\", \"Adventure\", \"Teen\", \"Post Apocalyptic\", \"Action\"]\n",
    "    },\n",
    "]\n",
    "\n",
    "# 0을 남겨둠\n",
    "genreVec = np.zeros((len(genres_dic)))\n",
    "for genre in genres:\n",
    "    genreVec[genres_dic[genre]] = 1.\n",
    "\n",
    "idVec = []\n",
    "authorVec = []\n",
    "for one in data:\n",
    "    for genre in one[\"genres\"]:\n",
    "        genreVec[genres_dic[genre]-1] += 1.\n",
    "    idVec.append(one[\"id\"])\n",
    "    authorVec.append(myHash(one[\"author\"]))\n",
    "\n",
    "userProfile = [idVec, genreVec, authorVec]"
   ]
  },
  {
   "cell_type": "code",
   "execution_count": 84,
   "metadata": {},
   "outputs": [
    {
     "name": "stdout",
     "output_type": "stream",
     "text": [
      "[221, 326, 5240, 21, 151, 345, 1602, 4493, 4696, 12765]\n",
      "====================================================================================================\n",
      "1.5366299152374268 (second)\n"
     ]
    }
   ],
   "source": [
    "start = time.time()\n",
    "print(my_search(ForBookMatrix, userProfile, 50)[:10])\n",
    "print(\"=\"*100)\n",
    "print(time.time()-start,\"(second)\")"
   ]
  }
 ],
 "metadata": {
  "kernelspec": {
   "display_name": "Python 3.6.9 64-bit",
   "language": "python",
   "name": "python3"
  },
  "language_info": {
   "codemirror_mode": {
    "name": "ipython",
    "version": 3
   },
   "file_extension": ".py",
   "mimetype": "text/x-python",
   "name": "python",
   "nbconvert_exporter": "python",
   "pygments_lexer": "ipython3",
   "version": "3.6.9"
  },
  "orig_nbformat": 4,
  "vscode": {
   "interpreter": {
    "hash": "31f2aee4e71d21fbe5cf8b01ff0e069b9275f58929596ceb00d14d90e3e16cd6"
   }
  }
 },
 "nbformat": 4,
 "nbformat_minor": 2
}
